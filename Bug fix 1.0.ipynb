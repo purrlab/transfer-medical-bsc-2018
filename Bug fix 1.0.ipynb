{
 "cells": [
  {
   "cell_type": "code",
   "execution_count": null,
   "metadata": {},
   "outputs": [],
   "source": [
    "import pickle\n",
    "import matplotlib.pyplot as plt\n",
    "import numpy as np\n",
    "import random\n",
    "import time\n",
    "import tensorflow as tf\n",
    "from AADatasets import *\n",
    "from AAPreTrain import *\n",
    "from AATransferLearn import *\n",
    "from AAlogic import *\n",
    "from LabnotesDoc import *"
   ]
  },
  {
   "cell_type": "code",
   "execution_count": 2,
   "metadata": {},
   "outputs": [],
   "source": [
    "def run_target(params):\n",
    "    x,y = get_data(params)\n",
    "    # x,y = keep_class(x,y,[0,1,2])\n",
    "    # x,y = equal_data_min(x,y)\n",
    "\n",
    "    x_test,y_test,x,y = val_split(x,y, params[\"test_size\"])\n",
    "    x_val,y_val,x,y = val_split(x,y, params[\"val_size\"])\n",
    "    \n",
    "    # for method in m:\n",
    "    config_desktop()\n",
    "\n",
    "    model = make_model(x, y, params)\n",
    "\n",
    "    if params[\"style\"] == 'FT':\n",
    "        weights = determen_weights(y)\n",
    "        H, score, model = train_model(model,x,y,x_val,y_val,x_test,y_test, params[\"epochs\"], params[\"Batch_size\"])\n",
    "        predictions = get_feature_vector(model, x, layer = 'fc2')\n",
    "        predictions_test = get_feature_vector(model, x_test, layer = 'fc2')\n",
    "        score = auc_svm(predictions,y,predictions_test,y_test, plot = False)\n",
    "        results = {'score':score,\"acc_epoch\":H.history['acc'],\"val_acc_epoch\":H.history['val_acc'],\"loss_epoch\":H.history['loss'],\"vall_loss_epoch\":H.history['val_loss']}\n",
    "\n",
    "    elif params[\"style\"] =='SVM':\n",
    "        predictions = get_feature_vector(model, x, layer = 'fc2')\n",
    "        predictions_test = get_feature_vector(model, x_test, layer = 'fc2')\n",
    "        score = auc_svm(predictions,y,predictions_test,y_test, plot = False)\n",
    "        results = {'score':score,'data_name':params[\"data_name\"],'method':params[\"model\"],'style':params[\"style\"]}\n",
    "        H=None\n",
    "\n",
    "    doc(params,results,H,params[\"doc_path\"])"
   ]
  },
  {
   "cell_type": "code",
   "execution_count": 2,
   "metadata": {},
   "outputs": [],
   "source": [
    "params = {\"Data\":'Breast',\n",
    "                \"data_name\":None,\n",
    "                \"style\":'FT',\n",
    "                \"model\":\"imagenet\",\n",
    "                \"file_path\":r\"C:\\breast-ultrasound-image\",\n",
    "                \"pickle_path\":r\"C:\\pickles\\Breast\",\n",
    "                \"model_path\":{\"KaggleDR\":r\"C:\\models\\Epochs_50_kaggleDR.json\",\"Chest\":r\"C:\\models\\Epochs_50_Chest.json\", \"CatDog\":r\"C:\\models\\Epochs_40_CatDog.json\" },\n",
    "                \"RandomSeed\":2,\n",
    "                \"doc_path\":r\"C:\\Users\\Flori\\Documents\\GitHub\\t\",\n",
    "                'img_size_x':224,\n",
    "                'img_size_y':224,\n",
    "                'norm':False,\n",
    "                'color':True, \n",
    "                'pretrain':None, \n",
    "                \"equal_data\":False, \n",
    "                \"shuffle\":True, \n",
    "                \"epochs\":1 , \n",
    "                \"val_size\":25,\n",
    "                \"test_size\":50, \n",
    "                \"Batch_size\":1\n",
    "                }"
   ]
  },
  {
   "cell_type": "code",
   "execution_count": null,
   "metadata": {},
   "outputs": [
    {
     "name": "stdout",
     "output_type": "stream",
     "text": [
      "Try to import pickle\n",
      "succeed to import pickle\n",
      " unzip\n",
      "MODEL SUMMARY:\n",
      "<tensorflow.python.keras._impl.keras.engine.topology.InputLayer object at 0x000001C07780B080> True\n",
      "<tensorflow.python.keras._impl.keras.layers.convolutional.Conv2D object at 0x000001C0797C32B0> True\n",
      "<tensorflow.python.keras._impl.keras.layers.convolutional.Conv2D object at 0x000001C0523CD860> True\n",
      "<tensorflow.python.keras._impl.keras.layers.pooling.MaxPooling2D object at 0x000001C0797C37B8> True\n",
      "<tensorflow.python.keras._impl.keras.layers.convolutional.Conv2D object at 0x000001C0797C36D8> True\n",
      "<tensorflow.python.keras._impl.keras.layers.convolutional.Conv2D object at 0x000001C00D770080> True\n",
      "<tensorflow.python.keras._impl.keras.layers.pooling.MaxPooling2D object at 0x000001C00D7A4E80> True\n",
      "<tensorflow.python.keras._impl.keras.layers.convolutional.Conv2D object at 0x000001C00D7A4898> True\n",
      "<tensorflow.python.keras._impl.keras.layers.convolutional.Conv2D object at 0x000001C00D7D25C0> True\n",
      "<tensorflow.python.keras._impl.keras.layers.convolutional.Conv2D object at 0x000001C01A449F60> True\n",
      "<tensorflow.python.keras._impl.keras.layers.pooling.MaxPooling2D object at 0x000001C01A449E80> True\n",
      "<tensorflow.python.keras._impl.keras.layers.convolutional.Conv2D object at 0x000001C01A479588> True\n",
      "<tensorflow.python.keras._impl.keras.layers.convolutional.Conv2D object at 0x000001C01A4AF390> True\n",
      "<tensorflow.python.keras._impl.keras.layers.convolutional.Conv2D object at 0x000001C01A4E6C50> True\n",
      "<tensorflow.python.keras._impl.keras.layers.pooling.MaxPooling2D object at 0x000001C01A4E6E48> True\n",
      "<tensorflow.python.keras._impl.keras.layers.convolutional.Conv2D object at 0x000001C01A516358> True\n",
      "<tensorflow.python.keras._impl.keras.layers.convolutional.Conv2D object at 0x000001C01A54E160> True\n",
      "<tensorflow.python.keras._impl.keras.layers.convolutional.Conv2D object at 0x000001C01A580A20> True\n",
      "<tensorflow.python.keras._impl.keras.layers.pooling.MaxPooling2D object at 0x000001C01A580B38> True\n",
      "<tensorflow.python.keras._impl.keras.layers.core.Flatten object at 0x000001C01A5B6128> True\n",
      "<tensorflow.python.keras._impl.keras.layers.core.Dense object at 0x000001C01A5B64E0> True\n",
      "<tensorflow.python.keras._impl.keras.layers.core.Dense object at 0x000001C01A5E72E8> True\n",
      "<tensorflow.python.keras._impl.keras.layers.core.Dense object at 0x000001C01A61AEF0> True\n",
      "<tensorflow.python.keras._impl.keras.layers.core.Dense object at 0x000001C01A66CF60> True\n",
      "<tensorflow.python.keras._impl.keras.layers.core.Dense object at 0x000001C01A691D30> True\n",
      "<tensorflow.python.keras._impl.keras.layers.core.Dense object at 0x000001C03B784A90> True\n",
      "END OF SUMMARY\n",
      "Train on 175 samples, validate on 25 samples\n",
      "Epoch 1/1\n",
      "175/175 [==============================]175/175 [==============================] - 32s 183ms/step - loss: 0.6738 - acc: 0.6171 - val_loss: 0.6939 - val_acc: 0.5200\n",
      "\n",
      " AUC of model =  0.5\n"
     ]
    }
   ],
   "source": [
    "from AATransferLearn import *\n",
    "run_target(params)"
   ]
  },
  {
   "cell_type": "code",
   "execution_count": 16,
   "metadata": {},
   "outputs": [
    {
     "name": "stdout",
     "output_type": "stream",
     "text": [
      "Try to import pickle\n",
      "succeed to import pickle\n",
      " unzip\n"
     ]
    },
    {
     "data": {
      "text/plain": [
       "2"
      ]
     },
     "execution_count": 16,
     "metadata": {},
     "output_type": "execute_result"
    }
   ],
   "source": [
    "x,y = get_data(params)\n",
    "y.shape[1]"
   ]
  },
  {
   "cell_type": "code",
   "execution_count": 3,
   "metadata": {},
   "outputs": [
    {
     "name": "stdout",
     "output_type": "stream",
     "text": [
      "Try to import pickle\n",
      "succeed to import pickle\n",
      " unzip\n",
      "MODEL SUMMARY:\n",
      "<tensorflow.python.keras._impl.keras.engine.topology.InputLayer object at 0x00000115C19DE3C8> True\n",
      "<tensorflow.python.keras._impl.keras.layers.convolutional.Conv2D object at 0x00000115C1977630> True\n",
      "<tensorflow.python.keras._impl.keras.layers.convolutional.Conv2D object at 0x000001159C56E8D0> True\n",
      "<tensorflow.python.keras._impl.keras.layers.pooling.MaxPooling2D object at 0x00000115C1977B38> True\n",
      "<tensorflow.python.keras._impl.keras.layers.convolutional.Conv2D object at 0x00000115C1977A58> True\n",
      "<tensorflow.python.keras._impl.keras.layers.convolutional.Conv2D object at 0x00000115C19A9400> True\n",
      "<tensorflow.python.keras._impl.keras.layers.pooling.MaxPooling2D object at 0x00000115C5E7F668> True\n",
      "<tensorflow.python.keras._impl.keras.layers.convolutional.Conv2D object at 0x00000115C5E7FFD0> True\n",
      "<tensorflow.python.keras._impl.keras.layers.convolutional.Conv2D object at 0x00000115D7A4E940> True\n",
      "<tensorflow.python.keras._impl.keras.layers.convolutional.Conv2D object at 0x00000115D7A846D8> True\n",
      "<tensorflow.python.keras._impl.keras.layers.pooling.MaxPooling2D object at 0x00000115D7A99358> True\n",
      "<tensorflow.python.keras._impl.keras.layers.convolutional.Conv2D object at 0x00000115D804C198> True\n",
      "<tensorflow.python.keras._impl.keras.layers.convolutional.Conv2D object at 0x00000115D8068710> True\n",
      "<tensorflow.python.keras._impl.keras.layers.convolutional.Conv2D object at 0x00000115D809DE80> True\n",
      "<tensorflow.python.keras._impl.keras.layers.pooling.MaxPooling2D object at 0x00000115D809DC88> True\n",
      "<tensorflow.python.keras._impl.keras.layers.convolutional.Conv2D object at 0x00000115D80CF6D8> True\n",
      "<tensorflow.python.keras._impl.keras.layers.convolutional.Conv2D object at 0x00000115DC4934E0> True\n",
      "<tensorflow.python.keras._impl.keras.layers.convolutional.Conv2D object at 0x00000115DC4C7DA0> True\n",
      "<tensorflow.python.keras._impl.keras.layers.pooling.MaxPooling2D object at 0x00000115DC4C7F98> True\n",
      "<tensorflow.python.keras._impl.keras.layers.core.Flatten object at 0x00000115DC4F74A8> True\n",
      "<tensorflow.python.keras._impl.keras.layers.core.Dense object at 0x00000115DC4F7860> True\n",
      "<tensorflow.python.keras._impl.keras.layers.core.Dense object at 0x00000115DC52D2B0> True\n",
      "<tensorflow.python.keras._impl.keras.layers.core.Dense object at 0x00000115DC4F7DA0> True\n",
      "<tensorflow.python.keras._impl.keras.layers.core.Dense object at 0x00000115E46DEB38> True\n",
      "<tensorflow.python.keras._impl.keras.layers.core.Dense object at 0x00000115E4702438> True\n",
      "<tensorflow.python.keras._impl.keras.layers.core.Dense object at 0x00000115E47209B0> True\n",
      "END OF SUMMARY\n",
      "Train on 175 samples, validate on 25 samples\n",
      "Epoch 1/1\n",
      "175/175 [==============================]175/175 [==============================] - 32s 183ms/step - loss: 0.6752 - acc: 0.6000 - val_loss: 0.7019 - val_acc: 0.5200\n",
      "\n",
      " AUC of model =  0.5\n"
     ]
    }
   ],
   "source": [
    "x,y = get_data(params)\n",
    "x_test,y_test,x,y = val_split(x,y, params[\"test_size\"])\n",
    "x_val,y_val,x,y = val_split(x,y, params[\"val_size\"])\n",
    "\n",
    "# for method in m:\n",
    "config_desktop()\n",
    "\n",
    "model = make_model(x, y, params)\n",
    "\n",
    "weights = determen_weights(y)\n",
    "H, score, model = train_model(model,x,y,x_val,y_val,x_test,y_test, params[\"epochs\"], params[\"Batch_size\"])\n",
    "predictions = get_feature_vector(model, x, layer = 'fc2')\n",
    "predictions_test = get_feature_vector(model, x_test, layer = 'fc2')\n"
   ]
  },
  {
   "cell_type": "code",
   "execution_count": 13,
   "metadata": {},
   "outputs": [],
   "source": [
    "x = predictions/predictions.max()\n",
    "X = predictions_test/predictions_test.max()"
   ]
  },
  {
   "cell_type": "code",
   "execution_count": 14,
   "metadata": {},
   "outputs": [
    {
     "name": "stdout",
     "output_type": "stream",
     "text": [
      "2\n"
     ]
    }
   ],
   "source": [
    "score = auc_svm(x,y,X,y_test, plot = False)"
   ]
  },
  {
   "cell_type": "code",
   "execution_count": 15,
   "metadata": {},
   "outputs": [
    {
     "data": {
      "text/plain": [
       "0.6321097602735108"
      ]
     },
     "execution_count": 15,
     "metadata": {},
     "output_type": "execute_result"
    }
   ],
   "source": [
    "score"
   ]
  },
  {
   "cell_type": "code",
   "execution_count": null,
   "metadata": {},
   "outputs": [],
   "source": []
  }
 ],
 "metadata": {
  "kernelspec": {
   "display_name": "Python 3",
   "language": "python",
   "name": "python3"
  },
  "language_info": {
   "codemirror_mode": {
    "name": "ipython",
    "version": 3
   },
   "file_extension": ".py",
   "mimetype": "text/x-python",
   "name": "python",
   "nbconvert_exporter": "python",
   "pygments_lexer": "ipython3",
   "version": "3.6.6"
  }
 },
 "nbformat": 4,
 "nbformat_minor": 2
}

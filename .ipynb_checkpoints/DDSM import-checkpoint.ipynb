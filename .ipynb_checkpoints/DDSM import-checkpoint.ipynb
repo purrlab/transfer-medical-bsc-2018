{
 "cells": [
  {
   "cell_type": "code",
   "execution_count": 32,
   "metadata": {},
   "outputs": [],
   "source": [
    "import tensorflow as tf\n",
    "import shutil\n",
    "import numpy as np\n",
    "import pandas as pd\n",
    "import cv2\n",
    "import os\n",
    "\n",
    "class TFRecordExtractor:\n",
    "\n",
    "    def __init__(self, tfrecord_file):\n",
    "        self.tfrecord_file = os.path.abspath(tfrecord_file)\n",
    "        self.count = 0\n",
    "\n",
    "    def _extract_fn(self,tfrecord):\n",
    "\n",
    "        # Extract features using the keys set during creation\n",
    "        feature = {'label': tf.FixedLenFeature([], tf.int64),\n",
    "                'label_normal': tf.FixedLenFeature([], tf.int64),\n",
    "                'image': tf.FixedLenFeature([], tf.string)}\n",
    "\n",
    "\n",
    "        # Decode the record read by the reader\n",
    "        features = tf.parse_single_example(tfrecord, features=feature)\n",
    "        # Convert the image data from string back to the numbers\n",
    "        image = tf.decode_raw(features['image'], tf.uint8)\n",
    "        #image = tf.image.decode_png(features['image'],channels=1)\n",
    "\n",
    "        label = features['label']\n",
    "\n",
    "        label_normal = features['label_normal']\n",
    "\n",
    "        image = tf.reshape(image, [299, 299, 1])\n",
    "\n",
    "        return [image,label,label_normal]\n",
    "\n",
    "\n",
    "    def post_process_images(self):\n",
    "\n",
    "        image_data_list = self.get_images()\n",
    "\n",
    "        b_c_df = pd.DataFrame(columns=['id', 'class', 'normal_class'])\n",
    "\n",
    "        id_list = []\n",
    "        class_list = []\n",
    "        normal_class_list = []\n",
    "\n",
    "        for image_data in image_data_list:\n",
    "            self.count = self.count + 1\n",
    "\n",
    "            file_name = 'folder directory for writing images' + 'b_c' + str(\n",
    "                self.count)\n",
    "            id_list.append('b_c' + str(\n",
    "                self.count))\n",
    "\n",
    "            class_list.append(image_data[1])\n",
    "            normal_class_list.append(image_data[2])\n",
    "\n",
    "\n",
    "            cv2.imwrite(file_name+\".png\",image_data[0])\n",
    "\n",
    "        id_arr = np.array(id_list)\n",
    "        class_arr = np.array(class_list)\n",
    "        normal_class_arr = np.array(normal_class_list)\n",
    "\n",
    "        b_c_df[\"id\"]  = pd.Series(id_arr)\n",
    "        b_c_df[\"class\"] = pd.Series(class_arr)\n",
    "        b_c_df[\"normal_class\"] = pd.Series(normal_class_arr)\n",
    "\n",
    "        b_c_df.to_csv(\n",
    "            path_or_buf=r\"C:\\DDSM\\training_1.csv',\n",
    "            columns=['id', 'class', 'normal_class'])\n",
    "\n",
    "    def get_images(self):\n",
    "        # Initialize all tfrecord paths\n",
    "\n",
    "        dataset = tf.data.TFRecordDataset([self.tfrecord_file])\n",
    "        dataset = dataset.map(self._extract_fn)\n",
    "        iterator = dataset.make_one_shot_iterator()\n",
    "        next_element = iterator.get_next()\n",
    "\n",
    "\n",
    "\n",
    "        with tf.Session() as sess:\n",
    "            sess.run(tf.global_variables_initializer())\n",
    "            image_data_list = []\n",
    "            try:\n",
    "                while True:\n",
    "\n",
    "                    image_data = sess.run(next_element)\n",
    "                    image_data_list.append(image_data)\n",
    "\n",
    "            except:\n",
    "                pass\n",
    "            \n",
    "            return image_data_list"
   ]
  },
  {
   "cell_type": "code",
   "execution_count": 33,
   "metadata": {},
   "outputs": [],
   "source": [
    "file = r\"C:\\training10_1\\training10_1.tfrecords\"\n",
    "file2 = r\"C:\\training10_0\\training10_0.tfrecords\"\n",
    "label,image = read_and_decode_single_example([file,file2])"
   ]
  },
  {
   "cell_type": "code",
   "execution_count": 40,
   "metadata": {},
   "outputs": [],
   "source": [
    "t = TFRecordExtractor(file) \n",
    "t.post_process_images()"
   ]
  },
  {
   "cell_type": "code",
   "execution_count": 42,
   "metadata": {},
   "outputs": [
    {
     "data": {
      "text/plain": [
       "<__main__.TFRecordExtractor at 0x2287369eb38>"
      ]
     },
     "execution_count": 42,
     "metadata": {},
     "output_type": "execute_result"
    }
   ],
   "source": [
    "t"
   ]
  },
  {
   "cell_type": "code",
   "execution_count": null,
   "metadata": {},
   "outputs": [],
   "source": []
  },
  {
   "cell_type": "code",
   "execution_count": null,
   "metadata": {},
   "outputs": [],
   "source": []
  },
  {
   "cell_type": "code",
   "execution_count": null,
   "metadata": {},
   "outputs": [],
   "source": []
  }
 ],
 "metadata": {
  "kernelspec": {
   "display_name": "Python 3",
   "language": "python",
   "name": "python3"
  },
  "language_info": {
   "codemirror_mode": {
    "name": "ipython",
    "version": 3
   },
   "file_extension": ".py",
   "mimetype": "text/x-python",
   "name": "python",
   "nbconvert_exporter": "python",
   "pygments_lexer": "ipython3",
   "version": "3.6.6"
  }
 },
 "nbformat": 4,
 "nbformat_minor": 2
}

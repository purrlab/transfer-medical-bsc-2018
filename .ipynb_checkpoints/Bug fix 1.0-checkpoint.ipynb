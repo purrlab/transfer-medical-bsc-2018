{
 "cells": [
  {
   "cell_type": "code",
   "execution_count": 5,
   "metadata": {},
   "outputs": [],
   "source": [
    "import pickle\n",
    "import matplotlib.pyplot as plt\n",
    "import numpy as np\n",
    "import random\n",
    "import time\n",
    "import tensorflow as tf\n",
    "from AADatasets import *\n",
    "from AAPreTrain import *\n",
    "from AATransferLearn import *\n",
    "from AAlogic import *\n",
    "from LabnotesDoc import *"
   ]
  },
  {
   "cell_type": "code",
   "execution_count": 6,
   "metadata": {},
   "outputs": [],
   "source": [
    "def run_target(params):\n",
    "    x,y = get_data(params)\n",
    "    # x,y = keep_class(x,y,[0,1,2])\n",
    "    # x,y = equal_data_min(x,y)\n",
    "\n",
    "    x_test,y_test,x,y = val_split(x,y, params[\"test_size\"])\n",
    "    x_val,y_val,x,y = val_split(x,y, params[\"val_size\"])\n",
    "    \n",
    "    # for method in m:\n",
    "    config_desktop()\n",
    "#     gpu_options = tf.GPUOptions(per_process_gpu_memory_fraction=0.45)\n",
    "\n",
    "    model = make_model(x, y, params)\n",
    "\n",
    "    if params[\"style\"] == 'FT':\n",
    "        weights = determen_weights(y)\n",
    "        H, score, model = train_model(model,x,y,x_val,y_val,x_test,y_test, params[\"epochs\"], params[\"Batch_size\"])\n",
    "        predictions = get_feature_vector(model, x, layer = 'fc2')\n",
    "        predictions_test = get_feature_vector(model, x_test, layer = 'fc2')\n",
    "        score = auc_svm(predictions,y,predictions_test,y_test, plot = False)\n",
    "        results = {'score':score,\"acc_epoch\":H.history['acc'],\"val_acc_epoch\":H.history['val_acc'],\"loss_epoch\":H.history['loss'],\"vall_loss_epoch\":H.history['val_loss']}\n",
    "\n",
    "    elif params[\"style\"] =='SVM':\n",
    "        predictions = get_feature_vector(model, x, layer = 'fc2')\n",
    "        predictions_test = get_feature_vector(model, x_test, layer = 'fc2')\n",
    "        score = auc_svm(predictions,y,predictions_test,y_test, plot = False)\n",
    "        results = {'score':score,'data_name':params[\"data_name\"],'method':params[\"model\"],'style':params[\"style\"]}\n",
    "        H=None\n",
    "\n",
    "    doc(params,results,H,params[\"doc_path\"])"
   ]
  },
  {
   "cell_type": "code",
   "execution_count": 7,
   "metadata": {},
   "outputs": [],
   "source": [
    "params = {\"Data\":'Breast',\n",
    "                \"data_name\":None,\n",
    "                \"style\":'FT',\n",
    "                \"model\":\"imagenet\",\n",
    "                \"file_path\":r\"C:\\breast-ultrasound-image\",\n",
    "                \"pickle_path\":r\"C:\\pickles\\Breast\",\n",
    "                \"model_path\":{\"KaggleDR\":r\"C:\\models\\Epochs_50_kaggleDR.json\",\"Chest\":r\"C:\\models\\Epochs_50_Chest.json\", \"CatDog\":r\"C:\\models\\Epochs_40_CatDog.json\" },\n",
    "                \"RandomSeed\":2,\n",
    "                \"doc_path\":r\"C:\\Users\\Flori\\Documents\\GitHub\\t\",\n",
    "                'img_size_x':224,\n",
    "                'img_size_y':224,\n",
    "                'norm':False,\n",
    "                'color':True, \n",
    "                'pretrain':None, \n",
    "                \"equal_data\":False, \n",
    "                \"shuffle\":True, \n",
    "                \"epochs\":1 , \n",
    "                \"val_size\":25,\n",
    "                \"test_size\":50, \n",
    "                \"Batch_size\":4\n",
    "                }\n",
    "params = {\"Data\":'Blood',\n",
    "        \"data_name\":None,\n",
    "        \"style\":\"FT\",\n",
    "        \"model\":\"imagenet\",\n",
    "        \"file_path\":r\"C:\\blood-cells\",\n",
    "        \"pickle_path\":r\"C:\\pickles\\Blood\",\n",
    "        \"model_path\":{\"KaggleDR\":r\"C:\\models\\Epochs_50_kaggleDR.json\",\"Chest\":r\"C:\\models\\Epochs_50_Chest.json\", \"CatDog\":r\"C:\\models\\Epochs_40_CatDog.json\" },\n",
    "        \"RandomSeed\":2,\n",
    "        \"doc_path\":r\"C:\\Users\\Flori\\Documents\\GitHub\\t\",\n",
    "        'img_size_x':224,\n",
    "        'img_size_y':224,\n",
    "        'norm':False,\n",
    "        'color':True, \n",
    "        'pretrain':None, \n",
    "        \"equal_data\":False, \n",
    "        \"shuffle\":True, \n",
    "        \"epochs\":50 , \n",
    "        \"val_size\":300,\n",
    "        \"test_size\":500, \n",
    "        \"Batch_size\":32\n",
    "        }"
   ]
  },
  {
   "cell_type": "code",
   "execution_count": 5,
   "metadata": {},
   "outputs": [
    {
     "name": "stdout",
     "output_type": "stream",
     "text": [
      "Try to import pickle\n",
      "succeed to import pickle\n",
      " unzip\n"
     ]
    }
   ],
   "source": [
    "x,y = get_data(params)"
   ]
  },
  {
   "cell_type": "code",
   "execution_count": 13,
   "metadata": {},
   "outputs": [
    {
     "data": {
      "text/plain": [
       "250"
      ]
     },
     "execution_count": 13,
     "metadata": {},
     "output_type": "execute_result"
    }
   ],
   "source": [
    "len(y)"
   ]
  },
  {
   "cell_type": "code",
   "execution_count": 15,
   "metadata": {},
   "outputs": [
    {
     "data": {
      "text/plain": [
       "array([[1, 0],\n",
       "       [1, 0],\n",
       "       [0, 1],\n",
       "       [1, 0],\n",
       "       [0, 1],\n",
       "       [0, 1],\n",
       "       [0, 1],\n",
       "       [0, 1],\n",
       "       [0, 1],\n",
       "       [1, 0],\n",
       "       [0, 1],\n",
       "       [1, 0],\n",
       "       [0, 1],\n",
       "       [0, 1],\n",
       "       [1, 0],\n",
       "       [1, 0],\n",
       "       [1, 0],\n",
       "       [1, 0],\n",
       "       [0, 1],\n",
       "       [0, 1],\n",
       "       [0, 1],\n",
       "       [0, 1],\n",
       "       [0, 1],\n",
       "       [0, 1],\n",
       "       [0, 1],\n",
       "       [1, 0],\n",
       "       [0, 1],\n",
       "       [1, 0],\n",
       "       [0, 1],\n",
       "       [1, 0],\n",
       "       [0, 1],\n",
       "       [0, 1],\n",
       "       [0, 1],\n",
       "       [1, 0],\n",
       "       [0, 1],\n",
       "       [1, 0],\n",
       "       [1, 0],\n",
       "       [0, 1],\n",
       "       [0, 1],\n",
       "       [1, 0],\n",
       "       [0, 1],\n",
       "       [0, 1],\n",
       "       [1, 0],\n",
       "       [1, 0],\n",
       "       [0, 1],\n",
       "       [1, 0],\n",
       "       [1, 0],\n",
       "       [0, 1],\n",
       "       [0, 1],\n",
       "       [1, 0],\n",
       "       [0, 1],\n",
       "       [0, 1],\n",
       "       [1, 0],\n",
       "       [0, 1],\n",
       "       [0, 1],\n",
       "       [1, 0],\n",
       "       [0, 1],\n",
       "       [0, 1],\n",
       "       [1, 0],\n",
       "       [0, 1],\n",
       "       [1, 0],\n",
       "       [1, 0],\n",
       "       [0, 1],\n",
       "       [0, 1],\n",
       "       [1, 0],\n",
       "       [0, 1],\n",
       "       [0, 1],\n",
       "       [1, 0],\n",
       "       [0, 1],\n",
       "       [1, 0],\n",
       "       [0, 1],\n",
       "       [1, 0],\n",
       "       [1, 0],\n",
       "       [1, 0],\n",
       "       [1, 0],\n",
       "       [1, 0],\n",
       "       [1, 0],\n",
       "       [0, 1],\n",
       "       [0, 1],\n",
       "       [0, 1],\n",
       "       [1, 0],\n",
       "       [1, 0],\n",
       "       [1, 0],\n",
       "       [0, 1],\n",
       "       [0, 1],\n",
       "       [0, 1],\n",
       "       [1, 0],\n",
       "       [1, 0],\n",
       "       [0, 1],\n",
       "       [0, 1],\n",
       "       [1, 0],\n",
       "       [1, 0],\n",
       "       [1, 0],\n",
       "       [1, 0],\n",
       "       [0, 1],\n",
       "       [0, 1],\n",
       "       [1, 0],\n",
       "       [0, 1],\n",
       "       [0, 1],\n",
       "       [0, 1],\n",
       "       [0, 1],\n",
       "       [1, 0],\n",
       "       [0, 1],\n",
       "       [0, 1],\n",
       "       [0, 1],\n",
       "       [0, 1],\n",
       "       [0, 1],\n",
       "       [0, 1],\n",
       "       [0, 1],\n",
       "       [1, 0],\n",
       "       [0, 1],\n",
       "       [0, 1],\n",
       "       [0, 1],\n",
       "       [0, 1],\n",
       "       [1, 0],\n",
       "       [1, 0],\n",
       "       [0, 1],\n",
       "       [0, 1],\n",
       "       [0, 1],\n",
       "       [0, 1],\n",
       "       [0, 1],\n",
       "       [1, 0],\n",
       "       [0, 1],\n",
       "       [0, 1],\n",
       "       [1, 0],\n",
       "       [0, 1],\n",
       "       [0, 1],\n",
       "       [0, 1],\n",
       "       [1, 0],\n",
       "       [1, 0],\n",
       "       [1, 0],\n",
       "       [0, 1],\n",
       "       [1, 0],\n",
       "       [0, 1],\n",
       "       [0, 1],\n",
       "       [0, 1],\n",
       "       [1, 0],\n",
       "       [0, 1],\n",
       "       [0, 1],\n",
       "       [1, 0],\n",
       "       [0, 1],\n",
       "       [0, 1],\n",
       "       [1, 0],\n",
       "       [0, 1],\n",
       "       [0, 1],\n",
       "       [0, 1],\n",
       "       [0, 1],\n",
       "       [0, 1],\n",
       "       [0, 1],\n",
       "       [1, 0],\n",
       "       [0, 1],\n",
       "       [0, 1],\n",
       "       [0, 1],\n",
       "       [0, 1],\n",
       "       [1, 0],\n",
       "       [1, 0],\n",
       "       [0, 1],\n",
       "       [1, 0],\n",
       "       [0, 1],\n",
       "       [1, 0],\n",
       "       [1, 0],\n",
       "       [1, 0],\n",
       "       [0, 1],\n",
       "       [0, 1],\n",
       "       [1, 0],\n",
       "       [0, 1],\n",
       "       [1, 0],\n",
       "       [0, 1],\n",
       "       [1, 0],\n",
       "       [0, 1],\n",
       "       [1, 0],\n",
       "       [0, 1],\n",
       "       [0, 1],\n",
       "       [0, 1],\n",
       "       [1, 0],\n",
       "       [1, 0],\n",
       "       [1, 0],\n",
       "       [1, 0],\n",
       "       [0, 1],\n",
       "       [1, 0],\n",
       "       [0, 1],\n",
       "       [1, 0],\n",
       "       [0, 1],\n",
       "       [0, 1],\n",
       "       [0, 1],\n",
       "       [0, 1],\n",
       "       [1, 0],\n",
       "       [0, 1],\n",
       "       [1, 0],\n",
       "       [0, 1],\n",
       "       [0, 1],\n",
       "       [0, 1],\n",
       "       [0, 1],\n",
       "       [0, 1],\n",
       "       [0, 1],\n",
       "       [0, 1],\n",
       "       [0, 1],\n",
       "       [0, 1],\n",
       "       [0, 1],\n",
       "       [1, 0],\n",
       "       [1, 0],\n",
       "       [0, 1],\n",
       "       [0, 1],\n",
       "       [0, 1],\n",
       "       [0, 1],\n",
       "       [1, 0],\n",
       "       [1, 0],\n",
       "       [0, 1],\n",
       "       [1, 0],\n",
       "       [1, 0],\n",
       "       [1, 0],\n",
       "       [1, 0],\n",
       "       [0, 1],\n",
       "       [0, 1],\n",
       "       [1, 0],\n",
       "       [0, 1],\n",
       "       [0, 1],\n",
       "       [1, 0],\n",
       "       [1, 0],\n",
       "       [0, 1],\n",
       "       [1, 0],\n",
       "       [0, 1],\n",
       "       [0, 1],\n",
       "       [0, 1],\n",
       "       [1, 0],\n",
       "       [0, 1],\n",
       "       [0, 1],\n",
       "       [0, 1],\n",
       "       [1, 0],\n",
       "       [0, 1],\n",
       "       [1, 0],\n",
       "       [0, 1],\n",
       "       [1, 0],\n",
       "       [1, 0],\n",
       "       [0, 1],\n",
       "       [1, 0],\n",
       "       [0, 1],\n",
       "       [0, 1],\n",
       "       [0, 1],\n",
       "       [0, 1],\n",
       "       [0, 1],\n",
       "       [1, 0],\n",
       "       [1, 0],\n",
       "       [1, 0],\n",
       "       [0, 1],\n",
       "       [0, 1],\n",
       "       [0, 1],\n",
       "       [1, 0],\n",
       "       [0, 1],\n",
       "       [1, 0]])"
      ]
     },
     "execution_count": 15,
     "metadata": {},
     "output_type": "execute_result"
    }
   ],
   "source": []
  },
  {
   "cell_type": "code",
   "execution_count": 8,
   "metadata": {},
   "outputs": [
    {
     "name": "stdout",
     "output_type": "stream",
     "text": [
      "Try to import pickle\n",
      "succeed to import pickle\n",
      " unzip\n"
     ]
    },
    {
     "ename": "AttributeError",
     "evalue": "module 'tensorflow' has no attribute 'get_session'",
     "output_type": "error",
     "traceback": [
      "\u001b[1;31m---------------------------------------------------------------------------\u001b[0m",
      "\u001b[1;31mAttributeError\u001b[0m                            Traceback (most recent call last)",
      "\u001b[1;32m<ipython-input-8-f22942f3f4b9>\u001b[0m in \u001b[0;36m<module>\u001b[1;34m\u001b[0m\n\u001b[0;32m      1\u001b[0m \u001b[1;32mfrom\u001b[0m \u001b[0mAATransferLearn\u001b[0m \u001b[1;32mimport\u001b[0m \u001b[1;33m*\u001b[0m\u001b[1;33m\u001b[0m\u001b[0m\n\u001b[1;32m----> 2\u001b[1;33m \u001b[0mrun_target\u001b[0m\u001b[1;33m(\u001b[0m\u001b[0mparams\u001b[0m\u001b[1;33m)\u001b[0m\u001b[1;33m\u001b[0m\u001b[0m\n\u001b[0m",
      "\u001b[1;32m<ipython-input-6-2bb9bc749604>\u001b[0m in \u001b[0;36mrun_target\u001b[1;34m(params)\u001b[0m\n\u001b[0;32m      8\u001b[0m \u001b[1;33m\u001b[0m\u001b[0m\n\u001b[0;32m      9\u001b[0m     \u001b[1;31m# for method in m:\u001b[0m\u001b[1;33m\u001b[0m\u001b[1;33m\u001b[0m\u001b[0m\n\u001b[1;32m---> 10\u001b[1;33m     \u001b[0mconfig_desktop\u001b[0m\u001b[1;33m(\u001b[0m\u001b[1;33m)\u001b[0m\u001b[1;33m\u001b[0m\u001b[0m\n\u001b[0m\u001b[0;32m     11\u001b[0m \u001b[1;31m#     gpu_options = tf.GPUOptions(per_process_gpu_memory_fraction=0.45)\u001b[0m\u001b[1;33m\u001b[0m\u001b[1;33m\u001b[0m\u001b[0m\n\u001b[0;32m     12\u001b[0m \u001b[1;33m\u001b[0m\u001b[0m\n",
      "\u001b[1;32m~\\Documents\\GitHub\\transfer-medical-bsc-2018\\AAPreTrain.py\u001b[0m in \u001b[0;36mconfig_desktop\u001b[1;34m()\u001b[0m\n\u001b[0;32m     87\u001b[0m \u001b[1;32mdef\u001b[0m \u001b[0mconfig_desktop\u001b[0m\u001b[1;33m(\u001b[0m\u001b[1;33m)\u001b[0m\u001b[1;33m:\u001b[0m\u001b[1;33m\u001b[0m\u001b[0m\n\u001b[0;32m     88\u001b[0m     \u001b[1;31m## WHEN USING TF 1.5 or lower and GPU ###\u001b[0m\u001b[1;33m\u001b[0m\u001b[1;33m\u001b[0m\u001b[0m\n\u001b[1;32m---> 89\u001b[1;33m     \u001b[0mconfig\u001b[0m\u001b[1;33m.\u001b[0m\u001b[0mgpu_options\u001b[0m\u001b[1;33m.\u001b[0m\u001b[0mper_process_gpu_memory_fraction\u001b[0m \u001b[1;33m=\u001b[0m \u001b[1;36m0.4\u001b[0m\u001b[1;33m\u001b[0m\u001b[0m\n\u001b[0m\u001b[0;32m     90\u001b[0m     \u001b[0mconfig\u001b[0m \u001b[1;33m=\u001b[0m \u001b[0mtf\u001b[0m\u001b[1;33m.\u001b[0m\u001b[0mConfigProto\u001b[0m\u001b[1;33m(\u001b[0m\u001b[1;33m)\u001b[0m               \u001b[1;31m#\u001b[0m\u001b[1;33m\u001b[0m\u001b[0m\n\u001b[0;32m     91\u001b[0m     \u001b[0mconfig\u001b[0m\u001b[1;33m.\u001b[0m\u001b[0mgpu_options\u001b[0m\u001b[1;33m.\u001b[0m\u001b[0mallow_growth\u001b[0m \u001b[1;33m=\u001b[0m \u001b[1;32mTrue\u001b[0m  \u001b[1;31m#\u001b[0m\u001b[1;33m\u001b[0m\u001b[0m\n",
      "\u001b[1;31mAttributeError\u001b[0m: module 'tensorflow' has no attribute 'get_session'"
     ]
    }
   ],
   "source": [
    "from AATransferLearn import *\n",
    "run_target(params)"
   ]
  },
  {
   "cell_type": "code",
   "execution_count": 16,
   "metadata": {},
   "outputs": [
    {
     "name": "stdout",
     "output_type": "stream",
     "text": [
      "Try to import pickle\n",
      "succeed to import pickle\n",
      " unzip\n"
     ]
    },
    {
     "data": {
      "text/plain": [
       "2"
      ]
     },
     "execution_count": 16,
     "metadata": {},
     "output_type": "execute_result"
    }
   ],
   "source": [
    "x,y = get_data(params)\n",
    "y.shape[1]"
   ]
  },
  {
   "cell_type": "code",
   "execution_count": 3,
   "metadata": {},
   "outputs": [
    {
     "name": "stdout",
     "output_type": "stream",
     "text": [
      "Try to import pickle\n",
      "succeed to import pickle\n",
      " unzip\n",
      "MODEL SUMMARY:\n",
      "<tensorflow.python.keras._impl.keras.engine.topology.InputLayer object at 0x00000115C19DE3C8> True\n",
      "<tensorflow.python.keras._impl.keras.layers.convolutional.Conv2D object at 0x00000115C1977630> True\n",
      "<tensorflow.python.keras._impl.keras.layers.convolutional.Conv2D object at 0x000001159C56E8D0> True\n",
      "<tensorflow.python.keras._impl.keras.layers.pooling.MaxPooling2D object at 0x00000115C1977B38> True\n",
      "<tensorflow.python.keras._impl.keras.layers.convolutional.Conv2D object at 0x00000115C1977A58> True\n",
      "<tensorflow.python.keras._impl.keras.layers.convolutional.Conv2D object at 0x00000115C19A9400> True\n",
      "<tensorflow.python.keras._impl.keras.layers.pooling.MaxPooling2D object at 0x00000115C5E7F668> True\n",
      "<tensorflow.python.keras._impl.keras.layers.convolutional.Conv2D object at 0x00000115C5E7FFD0> True\n",
      "<tensorflow.python.keras._impl.keras.layers.convolutional.Conv2D object at 0x00000115D7A4E940> True\n",
      "<tensorflow.python.keras._impl.keras.layers.convolutional.Conv2D object at 0x00000115D7A846D8> True\n",
      "<tensorflow.python.keras._impl.keras.layers.pooling.MaxPooling2D object at 0x00000115D7A99358> True\n",
      "<tensorflow.python.keras._impl.keras.layers.convolutional.Conv2D object at 0x00000115D804C198> True\n",
      "<tensorflow.python.keras._impl.keras.layers.convolutional.Conv2D object at 0x00000115D8068710> True\n",
      "<tensorflow.python.keras._impl.keras.layers.convolutional.Conv2D object at 0x00000115D809DE80> True\n",
      "<tensorflow.python.keras._impl.keras.layers.pooling.MaxPooling2D object at 0x00000115D809DC88> True\n",
      "<tensorflow.python.keras._impl.keras.layers.convolutional.Conv2D object at 0x00000115D80CF6D8> True\n",
      "<tensorflow.python.keras._impl.keras.layers.convolutional.Conv2D object at 0x00000115DC4934E0> True\n",
      "<tensorflow.python.keras._impl.keras.layers.convolutional.Conv2D object at 0x00000115DC4C7DA0> True\n",
      "<tensorflow.python.keras._impl.keras.layers.pooling.MaxPooling2D object at 0x00000115DC4C7F98> True\n",
      "<tensorflow.python.keras._impl.keras.layers.core.Flatten object at 0x00000115DC4F74A8> True\n",
      "<tensorflow.python.keras._impl.keras.layers.core.Dense object at 0x00000115DC4F7860> True\n",
      "<tensorflow.python.keras._impl.keras.layers.core.Dense object at 0x00000115DC52D2B0> True\n",
      "<tensorflow.python.keras._impl.keras.layers.core.Dense object at 0x00000115DC4F7DA0> True\n",
      "<tensorflow.python.keras._impl.keras.layers.core.Dense object at 0x00000115E46DEB38> True\n",
      "<tensorflow.python.keras._impl.keras.layers.core.Dense object at 0x00000115E4702438> True\n",
      "<tensorflow.python.keras._impl.keras.layers.core.Dense object at 0x00000115E47209B0> True\n",
      "END OF SUMMARY\n",
      "Train on 175 samples, validate on 25 samples\n",
      "Epoch 1/1\n",
      "175/175 [==============================]175/175 [==============================] - 32s 183ms/step - loss: 0.6752 - acc: 0.6000 - val_loss: 0.7019 - val_acc: 0.5200\n",
      "\n",
      " AUC of model =  0.5\n"
     ]
    }
   ],
   "source": [
    "x,y = get_data(params)\n",
    "x_test,y_test,x,y = val_split(x,y, params[\"test_size\"])\n",
    "x_val,y_val,x,y = val_split(x,y, params[\"val_size\"])\n",
    "\n",
    "# for method in m:\n",
    "config_desktop()\n",
    "\n",
    "model = make_model(x, y, params)\n",
    "\n",
    "weights = determen_weights(y)\n",
    "H, score, model = train_model(model,x,y,x_val,y_val,x_test,y_test, params[\"epochs\"], params[\"Batch_size\"])\n",
    "predictions = get_feature_vector(model, x, layer = 'fc2')\n",
    "predictions_test = get_feature_vector(model, x_test, layer = 'fc2')\n"
   ]
  },
  {
   "cell_type": "code",
   "execution_count": 13,
   "metadata": {},
   "outputs": [],
   "source": [
    "x = predictions/predictions.max()\n",
    "X = predictions_test/predictions_test.max()"
   ]
  },
  {
   "cell_type": "code",
   "execution_count": 14,
   "metadata": {},
   "outputs": [
    {
     "name": "stdout",
     "output_type": "stream",
     "text": [
      "2\n"
     ]
    }
   ],
   "source": [
    "score = auc_svm(x,y,X,y_test, plot = False)"
   ]
  },
  {
   "cell_type": "code",
   "execution_count": 15,
   "metadata": {},
   "outputs": [
    {
     "data": {
      "text/plain": [
       "0.6321097602735108"
      ]
     },
     "execution_count": 15,
     "metadata": {},
     "output_type": "execute_result"
    }
   ],
   "source": [
    "score"
   ]
  },
  {
   "cell_type": "code",
   "execution_count": null,
   "metadata": {},
   "outputs": [],
   "source": []
  }
 ],
 "metadata": {
  "kernelspec": {
   "display_name": "Python 3",
   "language": "python",
   "name": "python3"
  },
  "language_info": {
   "codemirror_mode": {
    "name": "ipython",
    "version": 3
   },
   "file_extension": ".py",
   "mimetype": "text/x-python",
   "name": "python",
   "nbconvert_exporter": "python",
   "pygments_lexer": "ipython3",
   "version": "3.6.6"
  }
 },
 "nbformat": 4,
 "nbformat_minor": 2
}
